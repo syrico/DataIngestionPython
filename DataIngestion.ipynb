{
 "cells": [
  {
   "cell_type": "code",
   "execution_count": 141,
   "metadata": {},
   "outputs": [],
   "source": [
    "import psycopg2\n",
    "from psycopg2 import errors\n",
    "from psycopg2 import sql\n",
    "import json"
   ]
  },
  {
   "cell_type": "code",
   "execution_count": 16,
   "metadata": {},
   "outputs": [
    {
     "name": "stdout",
     "output_type": "stream",
     "text": [
      "Information\n",
      "{'user': 'postgres', 'channel_binding': 'prefer', 'dbname': 'DVDRental', 'host': 'localhost', 'port': '5432', 'tty': '', 'options': '', 'sslmode': 'prefer', 'sslcompression': '0', 'ssl_min_protocol_version': 'TLSv1.2', 'gssencmode': 'disable', 'krbsrvname': 'postgres', 'target_session_attrs': 'any'}\n",
      "queri [(1, 'Penelope', 'Guiness', datetime.datetime(2013, 5, 26, 14, 47, 57, 620000)), (2, 'Nick', 'Wahlberg', datetime.datetime(2013, 5, 26, 14, 47, 57, 620000)), (3, 'Ed', 'Chase', datetime.datetime(2013, 5, 26, 14, 47, 57, 620000)), (4, 'Jennifer', 'Davis', datetime.datetime(2013, 5, 26, 14, 47, 57, 620000)), (5, 'Johnny', 'Lollobrigida', datetime.datetime(2013, 5, 26, 14, 47, 57, 620000)), (6, 'Bette', 'Nicholson', datetime.datetime(2013, 5, 26, 14, 47, 57, 620000)), (7, 'Grace', 'Mostel', datetime.datetime(2013, 5, 26, 14, 47, 57, 620000)), (8, 'Matthew', 'Johansson', datetime.datetime(2013, 5, 26, 14, 47, 57, 620000)), (9, 'Joe', 'Swank', datetime.datetime(2013, 5, 26, 14, 47, 57, 620000)), (10, 'Christian', 'Gable', datetime.datetime(2013, 5, 26, 14, 47, 57, 620000)), (11, 'Zero', 'Cage', datetime.datetime(2013, 5, 26, 14, 47, 57, 620000)), (12, 'Karl', 'Berry', datetime.datetime(2013, 5, 26, 14, 47, 57, 620000)), (13, 'Uma', 'Wood', datetime.datetime(2013, 5, 26, 14, 47, 57, 620000)), (14, 'Vivien', 'Bergen', datetime.datetime(2013, 5, 26, 14, 47, 57, 620000)), (15, 'Cuba', 'Olivier', datetime.datetime(2013, 5, 26, 14, 47, 57, 620000)), (16, 'Fred', 'Costner', datetime.datetime(2013, 5, 26, 14, 47, 57, 620000)), (17, 'Helen', 'Voight', datetime.datetime(2013, 5, 26, 14, 47, 57, 620000)), (18, 'Dan', 'Torn', datetime.datetime(2013, 5, 26, 14, 47, 57, 620000)), (19, 'Bob', 'Fawcett', datetime.datetime(2013, 5, 26, 14, 47, 57, 620000)), (20, 'Lucille', 'Tracy', datetime.datetime(2013, 5, 26, 14, 47, 57, 620000)), (21, 'Kirsten', 'Paltrow', datetime.datetime(2013, 5, 26, 14, 47, 57, 620000)), (22, 'Elvis', 'Marx', datetime.datetime(2013, 5, 26, 14, 47, 57, 620000)), (23, 'Sandra', 'Kilmer', datetime.datetime(2013, 5, 26, 14, 47, 57, 620000)), (24, 'Cameron', 'Streep', datetime.datetime(2013, 5, 26, 14, 47, 57, 620000)), (25, 'Kevin', 'Bloom', datetime.datetime(2013, 5, 26, 14, 47, 57, 620000)), (26, 'Rip', 'Crawford', datetime.datetime(2013, 5, 26, 14, 47, 57, 620000)), (27, 'Julia', 'Mcqueen', datetime.datetime(2013, 5, 26, 14, 47, 57, 620000)), (28, 'Woody', 'Hoffman', datetime.datetime(2013, 5, 26, 14, 47, 57, 620000)), (29, 'Alec', 'Wayne', datetime.datetime(2013, 5, 26, 14, 47, 57, 620000)), (30, 'Sandra', 'Peck', datetime.datetime(2013, 5, 26, 14, 47, 57, 620000)), (31, 'Sissy', 'Sobieski', datetime.datetime(2013, 5, 26, 14, 47, 57, 620000)), (32, 'Tim', 'Hackman', datetime.datetime(2013, 5, 26, 14, 47, 57, 620000)), (33, 'Milla', 'Peck', datetime.datetime(2013, 5, 26, 14, 47, 57, 620000)), (34, 'Audrey', 'Olivier', datetime.datetime(2013, 5, 26, 14, 47, 57, 620000)), (35, 'Judy', 'Dean', datetime.datetime(2013, 5, 26, 14, 47, 57, 620000)), (36, 'Burt', 'Dukakis', datetime.datetime(2013, 5, 26, 14, 47, 57, 620000)), (37, 'Val', 'Bolger', datetime.datetime(2013, 5, 26, 14, 47, 57, 620000)), (38, 'Tom', 'Mckellen', datetime.datetime(2013, 5, 26, 14, 47, 57, 620000)), (39, 'Goldie', 'Brody', datetime.datetime(2013, 5, 26, 14, 47, 57, 620000)), (40, 'Johnny', 'Cage', datetime.datetime(2013, 5, 26, 14, 47, 57, 620000)), (41, 'Jodie', 'Degeneres', datetime.datetime(2013, 5, 26, 14, 47, 57, 620000)), (42, 'Tom', 'Miranda', datetime.datetime(2013, 5, 26, 14, 47, 57, 620000)), (43, 'Kirk', 'Jovovich', datetime.datetime(2013, 5, 26, 14, 47, 57, 620000)), (44, 'Nick', 'Stallone', datetime.datetime(2013, 5, 26, 14, 47, 57, 620000)), (45, 'Reese', 'Kilmer', datetime.datetime(2013, 5, 26, 14, 47, 57, 620000)), (46, 'Parker', 'Goldberg', datetime.datetime(2013, 5, 26, 14, 47, 57, 620000)), (47, 'Julia', 'Barrymore', datetime.datetime(2013, 5, 26, 14, 47, 57, 620000)), (48, 'Frances', 'Day-Lewis', datetime.datetime(2013, 5, 26, 14, 47, 57, 620000)), (49, 'Anne', 'Cronyn', datetime.datetime(2013, 5, 26, 14, 47, 57, 620000)), (50, 'Natalie', 'Hopkins', datetime.datetime(2013, 5, 26, 14, 47, 57, 620000)), (51, 'Gary', 'Phoenix', datetime.datetime(2013, 5, 26, 14, 47, 57, 620000)), (52, 'Carmen', 'Hunt', datetime.datetime(2013, 5, 26, 14, 47, 57, 620000)), (53, 'Mena', 'Temple', datetime.datetime(2013, 5, 26, 14, 47, 57, 620000)), (54, 'Penelope', 'Pinkett', datetime.datetime(2013, 5, 26, 14, 47, 57, 620000)), (55, 'Fay', 'Kilmer', datetime.datetime(2013, 5, 26, 14, 47, 57, 620000)), (56, 'Dan', 'Harris', datetime.datetime(2013, 5, 26, 14, 47, 57, 620000)), (57, 'Jude', 'Cruise', datetime.datetime(2013, 5, 26, 14, 47, 57, 620000)), (58, 'Christian', 'Akroyd', datetime.datetime(2013, 5, 26, 14, 47, 57, 620000)), (59, 'Dustin', 'Tautou', datetime.datetime(2013, 5, 26, 14, 47, 57, 620000)), (60, 'Henry', 'Berry', datetime.datetime(2013, 5, 26, 14, 47, 57, 620000)), (61, 'Christian', 'Neeson', datetime.datetime(2013, 5, 26, 14, 47, 57, 620000)), (62, 'Jayne', 'Neeson', datetime.datetime(2013, 5, 26, 14, 47, 57, 620000)), (63, 'Cameron', 'Wray', datetime.datetime(2013, 5, 26, 14, 47, 57, 620000)), (64, 'Ray', 'Johansson', datetime.datetime(2013, 5, 26, 14, 47, 57, 620000)), (65, 'Angela', 'Hudson', datetime.datetime(2013, 5, 26, 14, 47, 57, 620000)), (66, 'Mary', 'Tandy', datetime.datetime(2013, 5, 26, 14, 47, 57, 620000)), (67, 'Jessica', 'Bailey', datetime.datetime(2013, 5, 26, 14, 47, 57, 620000)), (68, 'Rip', 'Winslet', datetime.datetime(2013, 5, 26, 14, 47, 57, 620000)), (69, 'Kenneth', 'Paltrow', datetime.datetime(2013, 5, 26, 14, 47, 57, 620000)), (70, 'Michelle', 'Mcconaughey', datetime.datetime(2013, 5, 26, 14, 47, 57, 620000)), (71, 'Adam', 'Grant', datetime.datetime(2013, 5, 26, 14, 47, 57, 620000)), (72, 'Sean', 'Williams', datetime.datetime(2013, 5, 26, 14, 47, 57, 620000)), (73, 'Gary', 'Penn', datetime.datetime(2013, 5, 26, 14, 47, 57, 620000)), (74, 'Milla', 'Keitel', datetime.datetime(2013, 5, 26, 14, 47, 57, 620000)), (75, 'Burt', 'Posey', datetime.datetime(2013, 5, 26, 14, 47, 57, 620000)), (76, 'Angelina', 'Astaire', datetime.datetime(2013, 5, 26, 14, 47, 57, 620000)), (77, 'Cary', 'Mcconaughey', datetime.datetime(2013, 5, 26, 14, 47, 57, 620000)), (78, 'Groucho', 'Sinatra', datetime.datetime(2013, 5, 26, 14, 47, 57, 620000)), (79, 'Mae', 'Hoffman', datetime.datetime(2013, 5, 26, 14, 47, 57, 620000)), (80, 'Ralph', 'Cruz', datetime.datetime(2013, 5, 26, 14, 47, 57, 620000)), (81, 'Scarlett', 'Damon', datetime.datetime(2013, 5, 26, 14, 47, 57, 620000)), (82, 'Woody', 'Jolie', datetime.datetime(2013, 5, 26, 14, 47, 57, 620000)), (83, 'Ben', 'Willis', datetime.datetime(2013, 5, 26, 14, 47, 57, 620000)), (84, 'James', 'Pitt', datetime.datetime(2013, 5, 26, 14, 47, 57, 620000)), (85, 'Minnie', 'Zellweger', datetime.datetime(2013, 5, 26, 14, 47, 57, 620000)), (143, 'River', 'Dean', datetime.datetime(2013, 5, 26, 14, 47, 57, 620000)), (86, 'Greg', 'Chaplin', datetime.datetime(2013, 5, 26, 14, 47, 57, 620000)), (87, 'Spencer', 'Peck', datetime.datetime(2013, 5, 26, 14, 47, 57, 620000)), (88, 'Kenneth', 'Pesci', datetime.datetime(2013, 5, 26, 14, 47, 57, 620000)), (89, 'Charlize', 'Dench', datetime.datetime(2013, 5, 26, 14, 47, 57, 620000)), (90, 'Sean', 'Guiness', datetime.datetime(2013, 5, 26, 14, 47, 57, 620000)), (91, 'Christopher', 'Berry', datetime.datetime(2013, 5, 26, 14, 47, 57, 620000)), (92, 'Kirsten', 'Akroyd', datetime.datetime(2013, 5, 26, 14, 47, 57, 620000)), (93, 'Ellen', 'Presley', datetime.datetime(2013, 5, 26, 14, 47, 57, 620000)), (94, 'Kenneth', 'Torn', datetime.datetime(2013, 5, 26, 14, 47, 57, 620000)), (95, 'Daryl', 'Wahlberg', datetime.datetime(2013, 5, 26, 14, 47, 57, 620000)), (96, 'Gene', 'Willis', datetime.datetime(2013, 5, 26, 14, 47, 57, 620000)), (97, 'Meg', 'Hawke', datetime.datetime(2013, 5, 26, 14, 47, 57, 620000)), (98, 'Chris', 'Bridges', datetime.datetime(2013, 5, 26, 14, 47, 57, 620000)), (99, 'Jim', 'Mostel', datetime.datetime(2013, 5, 26, 14, 47, 57, 620000)), (100, 'Spencer', 'Depp', datetime.datetime(2013, 5, 26, 14, 47, 57, 620000)), (101, 'Susan', 'Davis', datetime.datetime(2013, 5, 26, 14, 47, 57, 620000)), (102, 'Walter', 'Torn', datetime.datetime(2013, 5, 26, 14, 47, 57, 620000)), (103, 'Matthew', 'Leigh', datetime.datetime(2013, 5, 26, 14, 47, 57, 620000)), (104, 'Penelope', 'Cronyn', datetime.datetime(2013, 5, 26, 14, 47, 57, 620000)), (105, 'Sidney', 'Crowe', datetime.datetime(2013, 5, 26, 14, 47, 57, 620000)), (106, 'Groucho', 'Dunst', datetime.datetime(2013, 5, 26, 14, 47, 57, 620000)), (107, 'Gina', 'Degeneres', datetime.datetime(2013, 5, 26, 14, 47, 57, 620000)), (108, 'Warren', 'Nolte', datetime.datetime(2013, 5, 26, 14, 47, 57, 620000)), (109, 'Sylvester', 'Dern', datetime.datetime(2013, 5, 26, 14, 47, 57, 620000)), (110, 'Susan', 'Davis', datetime.datetime(2013, 5, 26, 14, 47, 57, 620000)), (111, 'Cameron', 'Zellweger', datetime.datetime(2013, 5, 26, 14, 47, 57, 620000)), (112, 'Russell', 'Bacall', datetime.datetime(2013, 5, 26, 14, 47, 57, 620000)), (113, 'Morgan', 'Hopkins', datetime.datetime(2013, 5, 26, 14, 47, 57, 620000)), (114, 'Morgan', 'Mcdormand', datetime.datetime(2013, 5, 26, 14, 47, 57, 620000)), (115, 'Harrison', 'Bale', datetime.datetime(2013, 5, 26, 14, 47, 57, 620000)), (116, 'Dan', 'Streep', datetime.datetime(2013, 5, 26, 14, 47, 57, 620000)), (117, 'Renee', 'Tracy', datetime.datetime(2013, 5, 26, 14, 47, 57, 620000)), (118, 'Cuba', 'Allen', datetime.datetime(2013, 5, 26, 14, 47, 57, 620000)), (119, 'Warren', 'Jackman', datetime.datetime(2013, 5, 26, 14, 47, 57, 620000)), (120, 'Penelope', 'Monroe', datetime.datetime(2013, 5, 26, 14, 47, 57, 620000)), (121, 'Liza', 'Bergman', datetime.datetime(2013, 5, 26, 14, 47, 57, 620000)), (122, 'Salma', 'Nolte', datetime.datetime(2013, 5, 26, 14, 47, 57, 620000)), (123, 'Julianne', 'Dench', datetime.datetime(2013, 5, 26, 14, 47, 57, 620000)), (124, 'Scarlett', 'Bening', datetime.datetime(2013, 5, 26, 14, 47, 57, 620000)), (125, 'Albert', 'Nolte', datetime.datetime(2013, 5, 26, 14, 47, 57, 620000)), (126, 'Frances', 'Tomei', datetime.datetime(2013, 5, 26, 14, 47, 57, 620000)), (127, 'Kevin', 'Garland', datetime.datetime(2013, 5, 26, 14, 47, 57, 620000)), (128, 'Cate', 'Mcqueen', datetime.datetime(2013, 5, 26, 14, 47, 57, 620000)), (129, 'Daryl', 'Crawford', datetime.datetime(2013, 5, 26, 14, 47, 57, 620000)), (130, 'Greta', 'Keitel', datetime.datetime(2013, 5, 26, 14, 47, 57, 620000)), (131, 'Jane', 'Jackman', datetime.datetime(2013, 5, 26, 14, 47, 57, 620000)), (132, 'Adam', 'Hopper', datetime.datetime(2013, 5, 26, 14, 47, 57, 620000)), (133, 'Richard', 'Penn', datetime.datetime(2013, 5, 26, 14, 47, 57, 620000)), (134, 'Gene', 'Hopkins', datetime.datetime(2013, 5, 26, 14, 47, 57, 620000)), (135, 'Rita', 'Reynolds', datetime.datetime(2013, 5, 26, 14, 47, 57, 620000)), (136, 'Ed', 'Mansfield', datetime.datetime(2013, 5, 26, 14, 47, 57, 620000)), (137, 'Morgan', 'Williams', datetime.datetime(2013, 5, 26, 14, 47, 57, 620000)), (138, 'Lucille', 'Dee', datetime.datetime(2013, 5, 26, 14, 47, 57, 620000)), (139, 'Ewan', 'Gooding', datetime.datetime(2013, 5, 26, 14, 47, 57, 620000)), (140, 'Whoopi', 'Hurt', datetime.datetime(2013, 5, 26, 14, 47, 57, 620000)), (141, 'Cate', 'Harris', datetime.datetime(2013, 5, 26, 14, 47, 57, 620000)), (142, 'Jada', 'Ryder', datetime.datetime(2013, 5, 26, 14, 47, 57, 620000)), (144, 'Angela', 'Witherspoon', datetime.datetime(2013, 5, 26, 14, 47, 57, 620000)), (145, 'Kim', 'Allen', datetime.datetime(2013, 5, 26, 14, 47, 57, 620000)), (146, 'Albert', 'Johansson', datetime.datetime(2013, 5, 26, 14, 47, 57, 620000)), (147, 'Fay', 'Winslet', datetime.datetime(2013, 5, 26, 14, 47, 57, 620000)), (148, 'Emily', 'Dee', datetime.datetime(2013, 5, 26, 14, 47, 57, 620000)), (149, 'Russell', 'Temple', datetime.datetime(2013, 5, 26, 14, 47, 57, 620000)), (150, 'Jayne', 'Nolte', datetime.datetime(2013, 5, 26, 14, 47, 57, 620000)), (151, 'Geoffrey', 'Heston', datetime.datetime(2013, 5, 26, 14, 47, 57, 620000)), (152, 'Ben', 'Harris', datetime.datetime(2013, 5, 26, 14, 47, 57, 620000)), (153, 'Minnie', 'Kilmer', datetime.datetime(2013, 5, 26, 14, 47, 57, 620000)), (154, 'Meryl', 'Gibson', datetime.datetime(2013, 5, 26, 14, 47, 57, 620000)), (155, 'Ian', 'Tandy', datetime.datetime(2013, 5, 26, 14, 47, 57, 620000)), (156, 'Fay', 'Wood', datetime.datetime(2013, 5, 26, 14, 47, 57, 620000)), (157, 'Greta', 'Malden', datetime.datetime(2013, 5, 26, 14, 47, 57, 620000)), (158, 'Vivien', 'Basinger', datetime.datetime(2013, 5, 26, 14, 47, 57, 620000)), (159, 'Laura', 'Brody', datetime.datetime(2013, 5, 26, 14, 47, 57, 620000)), (160, 'Chris', 'Depp', datetime.datetime(2013, 5, 26, 14, 47, 57, 620000)), (161, 'Harvey', 'Hope', datetime.datetime(2013, 5, 26, 14, 47, 57, 620000)), (162, 'Oprah', 'Kilmer', datetime.datetime(2013, 5, 26, 14, 47, 57, 620000)), (163, 'Christopher', 'West', datetime.datetime(2013, 5, 26, 14, 47, 57, 620000)), (164, 'Humphrey', 'Willis', datetime.datetime(2013, 5, 26, 14, 47, 57, 620000)), (165, 'Al', 'Garland', datetime.datetime(2013, 5, 26, 14, 47, 57, 620000)), (166, 'Nick', 'Degeneres', datetime.datetime(2013, 5, 26, 14, 47, 57, 620000)), (167, 'Laurence', 'Bullock', datetime.datetime(2013, 5, 26, 14, 47, 57, 620000)), (168, 'Will', 'Wilson', datetime.datetime(2013, 5, 26, 14, 47, 57, 620000)), (169, 'Kenneth', 'Hoffman', datetime.datetime(2013, 5, 26, 14, 47, 57, 620000)), (170, 'Mena', 'Hopper', datetime.datetime(2013, 5, 26, 14, 47, 57, 620000)), (171, 'Olympia', 'Pfeiffer', datetime.datetime(2013, 5, 26, 14, 47, 57, 620000)), (172, 'Groucho', 'Williams', datetime.datetime(2013, 5, 26, 14, 47, 57, 620000)), (173, 'Alan', 'Dreyfuss', datetime.datetime(2013, 5, 26, 14, 47, 57, 620000)), (174, 'Michael', 'Bening', datetime.datetime(2013, 5, 26, 14, 47, 57, 620000)), (175, 'William', 'Hackman', datetime.datetime(2013, 5, 26, 14, 47, 57, 620000)), (176, 'Jon', 'Chase', datetime.datetime(2013, 5, 26, 14, 47, 57, 620000)), (177, 'Gene', 'Mckellen', datetime.datetime(2013, 5, 26, 14, 47, 57, 620000)), (178, 'Lisa', 'Monroe', datetime.datetime(2013, 5, 26, 14, 47, 57, 620000)), (179, 'Ed', 'Guiness', datetime.datetime(2013, 5, 26, 14, 47, 57, 620000)), (180, 'Jeff', 'Silverstone', datetime.datetime(2013, 5, 26, 14, 47, 57, 620000)), (181, 'Matthew', 'Carrey', datetime.datetime(2013, 5, 26, 14, 47, 57, 620000)), (182, 'Debbie', 'Akroyd', datetime.datetime(2013, 5, 26, 14, 47, 57, 620000)), (183, 'Russell', 'Close', datetime.datetime(2013, 5, 26, 14, 47, 57, 620000)), (184, 'Humphrey', 'Garland', datetime.datetime(2013, 5, 26, 14, 47, 57, 620000)), (185, 'Michael', 'Bolger', datetime.datetime(2013, 5, 26, 14, 47, 57, 620000)), (186, 'Julia', 'Zellweger', datetime.datetime(2013, 5, 26, 14, 47, 57, 620000)), (187, 'Renee', 'Ball', datetime.datetime(2013, 5, 26, 14, 47, 57, 620000)), (188, 'Rock', 'Dukakis', datetime.datetime(2013, 5, 26, 14, 47, 57, 620000)), (189, 'Cuba', 'Birch', datetime.datetime(2013, 5, 26, 14, 47, 57, 620000)), (190, 'Audrey', 'Bailey', datetime.datetime(2013, 5, 26, 14, 47, 57, 620000)), (191, 'Gregory', 'Gooding', datetime.datetime(2013, 5, 26, 14, 47, 57, 620000)), (192, 'John', 'Suvari', datetime.datetime(2013, 5, 26, 14, 47, 57, 620000)), (193, 'Burt', 'Temple', datetime.datetime(2013, 5, 26, 14, 47, 57, 620000)), (194, 'Meryl', 'Allen', datetime.datetime(2013, 5, 26, 14, 47, 57, 620000)), (195, 'Jayne', 'Silverstone', datetime.datetime(2013, 5, 26, 14, 47, 57, 620000)), (196, 'Bela', 'Walken', datetime.datetime(2013, 5, 26, 14, 47, 57, 620000)), (197, 'Reese', 'West', datetime.datetime(2013, 5, 26, 14, 47, 57, 620000)), (198, 'Mary', 'Keitel', datetime.datetime(2013, 5, 26, 14, 47, 57, 620000)), (199, 'Julia', 'Fawcett', datetime.datetime(2013, 5, 26, 14, 47, 57, 620000)), (200, 'Thora', 'Temple', datetime.datetime(2013, 5, 26, 14, 47, 57, 620000))]\n"
     ]
    }
   ],
   "source": [
    "con = psycopg2.connect(user='postgres', password='polines2015', host='localhost',port='5432',database='DVDRental')\n",
    "cursor = con.cursor()\n",
    "\n",
    "print('Information')\n",
    "\n",
    "print(con.get_dsn_parameters())\n",
    "cursor.execute(\"SELECT * from actor\")\n",
    "print('queri', cursor.fetchall())\n",
    "\n",
    "cursor.close()\n",
    "con.close()"
   ]
  },
  {
   "cell_type": "code",
   "execution_count": 548,
   "metadata": {},
   "outputs": [],
   "source": [
    "#user='postgres', password='polines2015', host='localhost',port='5432',database='DVDRental' modifikasi\n",
    "\n",
    "class MyDatabase():\n",
    "    def __init__(self, db=\"DVDRental\", user=\"postgres\", pw=\"polines2015\", port=\"5432\"):\n",
    "        self.conn = psycopg2.connect(database=db, user=user, password=pw, port=port )\n",
    "        self.cur = self.conn.cursor()\n",
    "\n",
    "    def queryDDL(self, query):\n",
    "        try:\n",
    "            self.cur.execute(query)\n",
    "            self.conn.commit()\n",
    "            print('oke')\n",
    "        except Exception as err:\n",
    "            print('Error', err)\n",
    "    \n",
    "    def createTable(self, tableName, colomn):\n",
    "        try:\n",
    "            self.tablename=tableName\n",
    "            self.colomn=colomn\n",
    "            self.cur.execute('create table if not exists {} ({})'.format(self.tablename, self.colomn))\n",
    "            self.conn.commit()\n",
    "            print('oke')\n",
    "        except Exception as err:\n",
    "            print('Error', err)\n",
    "    \n",
    "    def listTable(self, query):\n",
    "        self.cur.execute(query)\n",
    "        print('list of table')\n",
    "        record = self.cur.fetchall()\n",
    "        print(record)\n",
    "\n",
    "    def dropTable(self, tablename):\n",
    "        try:\n",
    "            self.tablename=tablename\n",
    "            self.cur.execute('drop table {}'.format(self.tablename))\n",
    "            self.conn.commit()\n",
    "            print('deleted')\n",
    "        except Exception as err:\n",
    "            print('Error', err)\n",
    "    \n",
    "    def readJson(self, masukanDict):\n",
    "        self.masukanDict=masukanDict\n",
    "        b=''\n",
    "        e=0\n",
    "        for key in self.masukanDict:\n",
    "            \n",
    "            #print(key.values())\n",
    "            if key['is_primary_key']==True:\n",
    "                key['is_primary_key']='primary key'\n",
    "            else:\n",
    "                key['is_primary_key']=' '\n",
    "            if key['is_unique']==True:\n",
    "                key['is_unique']='Unique'\n",
    "            else:\n",
    "                key['is_unique']=' '    \n",
    "            #print(key.values())\n",
    "\n",
    "        for x in range(len(self.masukanDict)):\n",
    "            c=''\n",
    "            for a in self.masukanDict[x].values():\n",
    "            #print(a)\n",
    "                d=str(a)\n",
    "                c=c+' '+d\n",
    "                #print(c)\n",
    "            if x==len(self.masukanDict)-1:\n",
    "                b=b+c\n",
    "            else:\n",
    "                b=b+c+','\n",
    "        return b\n",
    "\n",
    "    def close(self):\n",
    "        self.cur.close()\n",
    "        self.conn.close()\n",
    "    \n",
    "    \n",
    "\n",
    "db = MyDatabase()\n",
    "#db.listTable(\"select nspname||'.'||relname from pg_class join pg_namespace on relnamespace = pg_namespace.oid where relkind='r' and relname !~ '^(pg_|sql_)'\")\n",
    "\n",
    "#db.close()"
   ]
  },
  {
   "cell_type": "code",
   "execution_count": 541,
   "metadata": {},
   "outputs": [],
   "source": [
    "j=db.readJson(json_dictionary)"
   ]
  },
  {
   "cell_type": "code",
   "execution_count": 549,
   "metadata": {},
   "outputs": [
    {
     "name": "stdout",
     "output_type": "stream",
     "text": [
      "oke\n"
     ]
    }
   ],
   "source": [
    "db.createTable('percobaan_7',j)"
   ]
  },
  {
   "cell_type": "code",
   "execution_count": 438,
   "metadata": {},
   "outputs": [],
   "source": [
    "def readJsonFilebeta(self, **data):\n",
    "    b=[]\n",
    "    for key in json_dictionary:\n",
    "        c=''\n",
    "        #print(key.values())\n",
    "        if key['is_primary_key']==True:\n",
    "            key['is_primary_key']='primary key'\n",
    "        else:\n",
    "            key['is_primary_key']=' '\n",
    "\n",
    "        if key['is_unique']==True:\n",
    "            key['is_unique']='Unique'\n",
    "        else:\n",
    "            key['is_unique']=' '    \n",
    "        print(key.values())\n",
    "    \n",
    "    for a in key.values():\n",
    "        print(a)\n",
    "        d=str(a)\n",
    "        c=c+' '+d\n",
    "    b.append(c)    \n",
    "    return b"
   ]
  },
  {
   "cell_type": "code",
   "execution_count": null,
   "metadata": {},
   "outputs": [],
   "source": []
  },
  {
   "cell_type": "code",
   "execution_count": 537,
   "metadata": {},
   "outputs": [],
   "source": [
    "def readJsonFile(inputdata):\n",
    "    b=''\n",
    "    e=0\n",
    "    for key in inputdata:\n",
    "        \n",
    "        #print(key.values())\n",
    "        if key['is_primary_key']==True:\n",
    "            key['is_primary_key']='primary key'\n",
    "        else:\n",
    "            key['is_primary_key']=' '\n",
    "        if key['is_unique']==True:\n",
    "            key['is_unique']='Unique'\n",
    "        else:\n",
    "            key['is_unique']=' '    \n",
    "        #print(key.values())\n",
    "\n",
    "    for x in range(len(json_dictionary)):\n",
    "        c=''\n",
    "        for a in json_dictionary[x].values():\n",
    "        #print(a)\n",
    "            d=str(a)\n",
    "            c=c+' '+d\n",
    "            #print(c)\n",
    "        if x==len(json_dictionary)-1:\n",
    "            b=b+c\n",
    "        else:\n",
    "            b=b+c+','\n",
    "    return b"
   ]
  },
  {
   "cell_type": "code",
   "execution_count": 410,
   "metadata": {},
   "outputs": [
    {
     "name": "stdout",
     "output_type": "stream",
     "text": [
      "4\n"
     ]
    },
    {
     "data": {
      "text/plain": [
       "' first_name varchar(256)     NOT NULL, last_name varchar(256)     NOT NULL, email varchar(256)     NOT NULL, address varchar(256)     NOT NULL, created_at timestamp     NOT NULL'"
      ]
     },
     "execution_count": 410,
     "metadata": {},
     "output_type": "execute_result"
    }
   ],
   "source": [
    "b=''\n",
    "for x in range(len(json_dictionary)):\n",
    "   \n",
    "    c=''\n",
    "    #print(x)\n",
    "    for a in json_dictionary[x].values():\n",
    "        \n",
    "        d=str(a)\n",
    "        #print(d)\n",
    "        c=c+' '+d\n",
    "    #b=b+c\n",
    "    \n",
    "    if x==len(json_dictionary)-1:\n",
    "        print(x)\n",
    "        b=b+c   \n",
    "    else:\n",
    "        b=b+c+','\n",
    "b"
   ]
  },
  {
   "cell_type": "code",
   "execution_count": 539,
   "metadata": {},
   "outputs": [
    {
     "data": {
      "text/plain": [
       "' first_name varchar(256)     NOT NULL, last_name varchar(256)     NOT NULL, email varchar(256)     NOT NULL, address varchar(256)     NOT NULL, created_at timestamp     NOT NULL'"
      ]
     },
     "execution_count": 539,
     "metadata": {},
     "output_type": "execute_result"
    }
   ],
   "source": [
    "kolom=readJsonFile(json_dictionary)\n",
    "kolom"
   ]
  },
  {
   "cell_type": "code",
   "execution_count": 413,
   "metadata": {},
   "outputs": [
    {
     "data": {
      "text/plain": [
       "[{'column_name': 'first_name',\n",
       "  'column_type': 'varchar(256)',\n",
       "  'is_primary_key': False,\n",
       "  'is_unique': False,\n",
       "  'is_null_able': 'NOT NULL'},\n",
       " {'column_name': 'last_name',\n",
       "  'column_type': 'varchar(256)',\n",
       "  'is_primary_key': False,\n",
       "  'is_unique': False,\n",
       "  'is_null_able': 'NOT NULL'},\n",
       " {'column_name': 'email',\n",
       "  'column_type': 'varchar(256)',\n",
       "  'is_primary_key': False,\n",
       "  'is_unique': False,\n",
       "  'is_null_able': 'NOT NULL'},\n",
       " {'column_name': 'address',\n",
       "  'column_type': 'varchar(256)',\n",
       "  'is_primary_key': False,\n",
       "  'is_unique': False,\n",
       "  'is_null_able': 'NOT NULL'},\n",
       " {'column_name': 'created_at',\n",
       "  'column_type': 'timestamp',\n",
       "  'is_primary_key': False,\n",
       "  'is_unique': False,\n",
       "  'is_null_able': 'NOT NULL'}]"
      ]
     },
     "execution_count": 413,
     "metadata": {},
     "output_type": "execute_result"
    }
   ],
   "source": [
    "fileJson=open(r'C:\\Users\\Syrico\\Documents\\SIRCLO\\Data Engineer Test _ SIRCLO (2)\\de-sirclo-skill-test\\sql\\schemas\\user_address.json')\n",
    "json_dictionary = json.load(fileJson)\n",
    "json_dictionary\n"
   ]
  },
  {
   "cell_type": "code",
   "execution_count": 307,
   "metadata": {},
   "outputs": [
    {
     "data": {
      "text/plain": [
       "tuple"
      ]
     },
     "execution_count": 307,
     "metadata": {},
     "output_type": "execute_result"
    }
   ],
   "source": [
    "type(kolom)"
   ]
  },
  {
   "cell_type": "code",
   "execution_count": 343,
   "metadata": {},
   "outputs": [
    {
     "name": "stdout",
     "output_type": "stream",
     "text": [
      "Error syntax error at or near \")\"\n",
      "LINE 1: ...rchar(256)     NOT NULL, created_at timestamp     NOT NULL,)\n",
      "                                                                      ^\n",
      "\n"
     ]
    }
   ],
   "source": [
    "db.queryDDL('create table if not exists percobaan_5 ({})'.format(kolom))"
   ]
  },
  {
   "cell_type": "code",
   "execution_count": null,
   "metadata": {},
   "outputs": [],
   "source": []
  },
  {
   "cell_type": "code",
   "execution_count": 322,
   "metadata": {},
   "outputs": [
    {
     "data": {
      "text/plain": [
       "'('"
      ]
     },
     "execution_count": 322,
     "metadata": {},
     "output_type": "execute_result"
    }
   ],
   "source": [
    "kolom[0]"
   ]
  },
  {
   "cell_type": "code",
   "execution_count": 148,
   "metadata": {},
   "outputs": [],
   "source": [
    "col_list = sql.SQL(',').join( [sql.Identifier(col[\"column_name\"]) + sql.SQL(' ') + sql.SQL(col[\"column_type\"]) for col in json_dictionary])"
   ]
  },
  {
   "cell_type": "code",
   "execution_count": 149,
   "metadata": {},
   "outputs": [
    {
     "name": "stdout",
     "output_type": "stream",
     "text": [
      "Composed([Composed([Identifier('first_name'), SQL(' '), SQL('varchar(256)')]), SQL(','), Composed([Identifier('last_name'), SQL(' '), SQL('varchar(256)')]), SQL(','), Composed([Identifier('email'), SQL(' '), SQL('varchar(256)')]), SQL(','), Composed([Identifier('address'), SQL(' '), SQL('varchar(256)')]), SQL(','), Composed([Identifier('created_at'), SQL(' '), SQL('timestamp')])])\n"
     ]
    }
   ],
   "source": [
    "print(col_list)"
   ]
  },
  {
   "cell_type": "code",
   "execution_count": 71,
   "metadata": {},
   "outputs": [],
   "source": [
    "kolom=readJsonFile(json_dictionary)"
   ]
  },
  {
   "cell_type": "code",
   "execution_count": 72,
   "metadata": {},
   "outputs": [
    {
     "data": {
      "text/plain": [
       "[['first_name', 'varchar(256)', False, False, 'NOT NULL'],\n",
       " ['last_name', 'varchar(256)', False, False, 'NOT NULL'],\n",
       " ['email', 'varchar(256)', False, False, 'NOT NULL'],\n",
       " ['address', 'varchar(256)', False, False, 'NOT NULL'],\n",
       " ['created_at', 'timestamp', False, False, 'NOT NULL']]"
      ]
     },
     "execution_count": 72,
     "metadata": {},
     "output_type": "execute_result"
    }
   ],
   "source": [
    "kolom"
   ]
  },
  {
   "cell_type": "code",
   "execution_count": 73,
   "metadata": {},
   "outputs": [
    {
     "data": {
      "text/plain": [
       "['first_name', 'varchar(256)', False, False, 'NOT NULL']"
      ]
     },
     "execution_count": 73,
     "metadata": {},
     "output_type": "execute_result"
    }
   ],
   "source": [
    "kolom[0]"
   ]
  },
  {
   "cell_type": "code",
   "execution_count": 77,
   "metadata": {},
   "outputs": [
    {
     "ename": "NameError",
     "evalue": "name 'queryDDL' is not defined",
     "output_type": "error",
     "traceback": [
      "\u001b[1;31m---------------------------------------------------------------------------\u001b[0m",
      "\u001b[1;31mNameError\u001b[0m                                 Traceback (most recent call last)",
      "\u001b[1;32m~\\AppData\\Local\\Temp/ipykernel_17216/3828571211.py\u001b[0m in \u001b[0;36m<module>\u001b[1;34m\u001b[0m\n\u001b[1;32m----> 1\u001b[1;33m \u001b[0mqueryDDL\u001b[0m\u001b[1;33m(\u001b[0m\u001b[1;34m'create table if not exist percoban (kolom[0])'\u001b[0m\u001b[1;33m)\u001b[0m\u001b[1;33m\u001b[0m\u001b[1;33m\u001b[0m\u001b[0m\n\u001b[0m",
      "\u001b[1;31mNameError\u001b[0m: name 'queryDDL' is not defined"
     ]
    }
   ],
   "source": [
    "queryDDL('create table if not exist percoban5 (kolom)')"
   ]
  },
  {
   "cell_type": "code",
   "execution_count": 428,
   "metadata": {},
   "outputs": [
    {
     "name": "stdout",
     "output_type": "stream",
     "text": [
      "deleted\n"
     ]
    }
   ],
   "source": [
    "db.dropTable('percobaan_1')"
   ]
  },
  {
   "cell_type": "code",
   "execution_count": 306,
   "metadata": {},
   "outputs": [
    {
     "data": {
      "text/plain": [
       "str"
      ]
     },
     "execution_count": 306,
     "metadata": {},
     "output_type": "execute_result"
    }
   ],
   "source": [
    "db2=('frist_name varchar(256) primary key unique, second_name varchar')\n",
    "type(db2)"
   ]
  },
  {
   "cell_type": "code",
   "execution_count": 419,
   "metadata": {},
   "outputs": [
    {
     "name": "stdout",
     "output_type": "stream",
     "text": [
      "oke\n"
     ]
    }
   ],
   "source": [
    "db.queryDDL('create table if not exists percobaan_5 ({})'.format(kolom))"
   ]
  },
  {
   "cell_type": "code",
   "execution_count": 530,
   "metadata": {},
   "outputs": [],
   "source": [
    "contoh1=[{'nama':'jono','kelas':8},{'nama':'kipli','kelas':7}]\n",
    "contoh2={'nama':'bedmen','kelas':10}"
   ]
  },
  {
   "cell_type": "code",
   "execution_count": 535,
   "metadata": {},
   "outputs": [],
   "source": [
    "def read1(contoh1):\n",
    "    print(contoh1)"
   ]
  },
  {
   "cell_type": "code",
   "execution_count": 536,
   "metadata": {},
   "outputs": [
    {
     "name": "stdout",
     "output_type": "stream",
     "text": [
      "[{'nama': 'jono', 'kelas': 8}, {'nama': 'kipli', 'kelas': 7}]\n"
     ]
    }
   ],
   "source": [
    "read1(contoh1)"
   ]
  },
  {
   "cell_type": "code",
   "execution_count": 505,
   "metadata": {},
   "outputs": [],
   "source": [
    "def intro(**data):\n",
    "    print(\"\\nData type of argument:\",type(data))\n",
    "\n",
    "    for key, value in data.items():\n",
    "        print(\"{} is {}\".format(key,value))"
   ]
  },
  {
   "cell_type": "code",
   "execution_count": 506,
   "metadata": {},
   "outputs": [
    {
     "name": "stdout",
     "output_type": "stream",
     "text": [
      "\n",
      "Data type of argument: <class 'dict'>\n",
      "Firstname is Sita\n",
      "Lastname is Sharma\n",
      "Age is 22\n",
      "Phone is 1234567890\n"
     ]
    }
   ],
   "source": [
    "intro(Firstname=\"Sita\", Lastname=\"Sharma\", Age=22, Phone=1234567890)"
   ]
  },
  {
   "cell_type": "code",
   "execution_count": 507,
   "metadata": {},
   "outputs": [],
   "source": [
    "bb=[{'Firstname':'Sita','Lastname':'Situ'},]"
   ]
  },
  {
   "cell_type": "code",
   "execution_count": 529,
   "metadata": {},
   "outputs": [
    {
     "name": "stdout",
     "output_type": "stream",
     "text": [
      "\n",
      "Data type of argument: <class 'dict'>\n",
      "Firstname is Sita\n",
      "Lastname is Situ\n"
     ]
    }
   ],
   "source": [
    "intro(**bb)"
   ]
  },
  {
   "cell_type": "code",
   "execution_count": null,
   "metadata": {},
   "outputs": [],
   "source": []
  }
 ],
 "metadata": {
  "interpreter": {
   "hash": "7cf7e84384b02f5a397ee230300a73092fec4ad4fd460f4e5f9dea1add31f557"
  },
  "kernelspec": {
   "display_name": "Python 3.9.7 64-bit ('sift': venv)",
   "name": "python3"
  },
  "language_info": {
   "codemirror_mode": {
    "name": "ipython",
    "version": 3
   },
   "file_extension": ".py",
   "mimetype": "text/x-python",
   "name": "python",
   "nbconvert_exporter": "python",
   "pygments_lexer": "ipython3",
   "version": "3.9.7"
  },
  "orig_nbformat": 4
 },
 "nbformat": 4,
 "nbformat_minor": 2
}
